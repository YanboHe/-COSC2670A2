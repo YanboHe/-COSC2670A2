{
 "cells": [
  {
   "cell_type": "markdown",
   "metadata": {},
   "source": [
    "# How machine learning can predict the survival rates of patients with heart failure through medical statistics\n",
    "\n",
    "#### Brian Rabino | Yanbo He"
   ]
  },
  {
   "cell_type": "markdown",
   "metadata": {},
   "source": [
    "## Goal of Project\n",
    "To explore the effects of different variables on heart failure.\n",
    "\n",
    "## Data Retrieval"
   ]
  },
  {
   "cell_type": "code",
   "execution_count": 1,
   "metadata": {},
   "outputs": [],
   "source": [
    "import pandas as pd\n",
    "import matplotlib.pyplot as plt\n",
    "\n",
    "heart_filename = \"heartfailure.csv\"\n",
    "heart = pd.read_csv(heart_filename, sep=',', decimal='.', header=0)"
   ]
  },
  {
   "cell_type": "markdown",
   "metadata": {},
   "source": [
    "## Data Preparation and Pre-Processing\n",
    "We must first check each attribute and determine whether the data is readily available for exploration. If not, we must first prepare the data for exploration through variable means."
   ]
  },
  {
   "cell_type": "code",
   "execution_count": 2,
   "metadata": {
    "scrolled": false
   },
   "outputs": [
    {
     "data": {
      "text/html": [
       "<div>\n",
       "<style scoped>\n",
       "    .dataframe tbody tr th:only-of-type {\n",
       "        vertical-align: middle;\n",
       "    }\n",
       "\n",
       "    .dataframe tbody tr th {\n",
       "        vertical-align: top;\n",
       "    }\n",
       "\n",
       "    .dataframe thead th {\n",
       "        text-align: right;\n",
       "    }\n",
       "</style>\n",
       "<table border=\"1\" class=\"dataframe\">\n",
       "  <thead>\n",
       "    <tr style=\"text-align: right;\">\n",
       "      <th></th>\n",
       "      <th>age</th>\n",
       "      <th>anaemia</th>\n",
       "      <th>creatinine_phosphokinase</th>\n",
       "      <th>diabetes</th>\n",
       "      <th>ejection_fraction</th>\n",
       "      <th>high_blood_pressure</th>\n",
       "      <th>platelets</th>\n",
       "      <th>serum_creatinine</th>\n",
       "      <th>serum_sodium</th>\n",
       "      <th>sex</th>\n",
       "      <th>smoking</th>\n",
       "      <th>time</th>\n",
       "      <th>DEATH_EVENT</th>\n",
       "    </tr>\n",
       "  </thead>\n",
       "  <tbody>\n",
       "    <tr>\n",
       "      <th>0</th>\n",
       "      <td>75.0</td>\n",
       "      <td>0</td>\n",
       "      <td>582</td>\n",
       "      <td>0</td>\n",
       "      <td>20</td>\n",
       "      <td>1</td>\n",
       "      <td>265000.00</td>\n",
       "      <td>1.9</td>\n",
       "      <td>130</td>\n",
       "      <td>1</td>\n",
       "      <td>0</td>\n",
       "      <td>4</td>\n",
       "      <td>1</td>\n",
       "    </tr>\n",
       "    <tr>\n",
       "      <th>1</th>\n",
       "      <td>55.0</td>\n",
       "      <td>0</td>\n",
       "      <td>7861</td>\n",
       "      <td>0</td>\n",
       "      <td>38</td>\n",
       "      <td>0</td>\n",
       "      <td>263358.03</td>\n",
       "      <td>1.1</td>\n",
       "      <td>136</td>\n",
       "      <td>1</td>\n",
       "      <td>0</td>\n",
       "      <td>6</td>\n",
       "      <td>1</td>\n",
       "    </tr>\n",
       "    <tr>\n",
       "      <th>2</th>\n",
       "      <td>65.0</td>\n",
       "      <td>0</td>\n",
       "      <td>146</td>\n",
       "      <td>0</td>\n",
       "      <td>20</td>\n",
       "      <td>0</td>\n",
       "      <td>162000.00</td>\n",
       "      <td>1.3</td>\n",
       "      <td>129</td>\n",
       "      <td>1</td>\n",
       "      <td>1</td>\n",
       "      <td>7</td>\n",
       "      <td>1</td>\n",
       "    </tr>\n",
       "    <tr>\n",
       "      <th>3</th>\n",
       "      <td>50.0</td>\n",
       "      <td>1</td>\n",
       "      <td>111</td>\n",
       "      <td>0</td>\n",
       "      <td>20</td>\n",
       "      <td>0</td>\n",
       "      <td>210000.00</td>\n",
       "      <td>1.9</td>\n",
       "      <td>137</td>\n",
       "      <td>1</td>\n",
       "      <td>0</td>\n",
       "      <td>7</td>\n",
       "      <td>1</td>\n",
       "    </tr>\n",
       "    <tr>\n",
       "      <th>4</th>\n",
       "      <td>65.0</td>\n",
       "      <td>1</td>\n",
       "      <td>160</td>\n",
       "      <td>1</td>\n",
       "      <td>20</td>\n",
       "      <td>0</td>\n",
       "      <td>327000.00</td>\n",
       "      <td>2.7</td>\n",
       "      <td>116</td>\n",
       "      <td>0</td>\n",
       "      <td>0</td>\n",
       "      <td>8</td>\n",
       "      <td>1</td>\n",
       "    </tr>\n",
       "  </tbody>\n",
       "</table>\n",
       "</div>"
      ],
      "text/plain": [
       "    age  anaemia  creatinine_phosphokinase  diabetes  ejection_fraction  \\\n",
       "0  75.0        0                       582         0                 20   \n",
       "1  55.0        0                      7861         0                 38   \n",
       "2  65.0        0                       146         0                 20   \n",
       "3  50.0        1                       111         0                 20   \n",
       "4  65.0        1                       160         1                 20   \n",
       "\n",
       "   high_blood_pressure  platelets  serum_creatinine  serum_sodium  sex  \\\n",
       "0                    1  265000.00               1.9           130    1   \n",
       "1                    0  263358.03               1.1           136    1   \n",
       "2                    0  162000.00               1.3           129    1   \n",
       "3                    0  210000.00               1.9           137    1   \n",
       "4                    0  327000.00               2.7           116    0   \n",
       "\n",
       "   smoking  time  DEATH_EVENT  \n",
       "0        0     4            1  \n",
       "1        0     6            1  \n",
       "2        1     7            1  \n",
       "3        0     7            1  \n",
       "4        0     8            1  "
      ]
     },
     "execution_count": 2,
     "metadata": {},
     "output_type": "execute_result"
    }
   ],
   "source": [
    "heart.head()"
   ]
  },
  {
   "cell_type": "code",
   "execution_count": 3,
   "metadata": {},
   "outputs": [],
   "source": [
    "age = heart['age']\n",
    "anaemia = heart['anaemia']\n",
    "crea_phos = heart['creatinine_phosphokinase']\n",
    "diabetes = heart['diabetes']\n",
    "ejec_frac = heart['ejection_fraction']\n",
    "hbp = heart['high_blood_pressure']\n",
    "platelets = heart['platelets']\n",
    "ser_crea = heart['serum_creatinine']\n",
    "ser_sodi = heart['serum_sodium']\n",
    "sex = heart['sex']\n",
    "smoking = heart['smoking']\n",
    "time = heart['time']\n",
    "death_event = heart['DEATH_EVENT']"
   ]
  },
  {
   "cell_type": "markdown",
   "metadata": {},
   "source": [
    "Checking the data types of the dataframe so we understand what kind of values we are working with."
   ]
  },
  {
   "cell_type": "code",
   "execution_count": 4,
   "metadata": {},
   "outputs": [
    {
     "data": {
      "text/plain": [
       "age                         float64\n",
       "anaemia                       int64\n",
       "creatinine_phosphokinase      int64\n",
       "diabetes                      int64\n",
       "ejection_fraction             int64\n",
       "high_blood_pressure           int64\n",
       "platelets                   float64\n",
       "serum_creatinine            float64\n",
       "serum_sodium                  int64\n",
       "sex                           int64\n",
       "smoking                       int64\n",
       "time                          int64\n",
       "DEATH_EVENT                   int64\n",
       "dtype: object"
      ]
     },
     "execution_count": 4,
     "metadata": {},
     "output_type": "execute_result"
    }
   ],
   "source": [
    "heart.dtypes"
   ]
  },
  {
   "cell_type": "markdown",
   "metadata": {},
   "source": [
    "We check the value counts of each attribute to make sure there are no 'weird' values in the data and to ensure the data types we are working with are correct."
   ]
  },
  {
   "cell_type": "code",
   "execution_count": 5,
   "metadata": {
    "scrolled": true
   },
   "outputs": [
    {
     "data": {
      "text/plain": [
       "60.000    33\n",
       "50.000    27\n",
       "65.000    26\n",
       "70.000    25\n",
       "45.000    19\n",
       "55.000    17\n",
       "75.000    11\n",
       "58.000    10\n",
       "53.000    10\n",
       "63.000     8\n",
       "80.000     7\n",
       "72.000     7\n",
       "42.000     7\n",
       "40.000     7\n",
       "85.000     6\n",
       "62.000     5\n",
       "68.000     5\n",
       "52.000     5\n",
       "49.000     4\n",
       "61.000     4\n",
       "51.000     4\n",
       "73.000     4\n",
       "59.000     4\n",
       "46.000     3\n",
       "64.000     3\n",
       "82.000     3\n",
       "90.000     3\n",
       "69.000     3\n",
       "95.000     2\n",
       "48.000     2\n",
       "60.667     2\n",
       "67.000     2\n",
       "44.000     2\n",
       "66.000     2\n",
       "77.000     2\n",
       "78.000     2\n",
       "54.000     2\n",
       "57.000     2\n",
       "94.000     1\n",
       "56.000     1\n",
       "41.000     1\n",
       "87.000     1\n",
       "79.000     1\n",
       "86.000     1\n",
       "43.000     1\n",
       "81.000     1\n",
       "47.000     1\n",
       "Name: age, dtype: int64"
      ]
     },
     "execution_count": 5,
     "metadata": {},
     "output_type": "execute_result"
    }
   ],
   "source": [
    "age.value_counts()"
   ]
  },
  {
   "cell_type": "code",
   "execution_count": 6,
   "metadata": {},
   "outputs": [
    {
     "data": {
      "text/plain": [
       "0    170\n",
       "1    129\n",
       "Name: anaemia, dtype: int64"
      ]
     },
     "execution_count": 6,
     "metadata": {},
     "output_type": "execute_result"
    }
   ],
   "source": [
    "anaemia.value_counts()"
   ]
  },
  {
   "cell_type": "code",
   "execution_count": 7,
   "metadata": {
    "scrolled": false
   },
   "outputs": [
    {
     "data": {
      "text/plain": [
       "582     47\n",
       "66       4\n",
       "129      4\n",
       "84       3\n",
       "231      3\n",
       "        ..\n",
       "395      1\n",
       "754      1\n",
       "2334     1\n",
       "2695     1\n",
       "514      1\n",
       "Name: creatinine_phosphokinase, Length: 208, dtype: int64"
      ]
     },
     "execution_count": 7,
     "metadata": {},
     "output_type": "execute_result"
    }
   ],
   "source": [
    "crea_phos.value_counts()"
   ]
  },
  {
   "cell_type": "code",
   "execution_count": 8,
   "metadata": {},
   "outputs": [
    {
     "data": {
      "text/plain": [
       "0    174\n",
       "1    125\n",
       "Name: diabetes, dtype: int64"
      ]
     },
     "execution_count": 8,
     "metadata": {},
     "output_type": "execute_result"
    }
   ],
   "source": [
    "diabetes.value_counts()"
   ]
  },
  {
   "cell_type": "code",
   "execution_count": 9,
   "metadata": {},
   "outputs": [
    {
     "data": {
      "text/plain": [
       "35    49\n",
       "38    40\n",
       "40    37\n",
       "25    36\n",
       "30    34\n",
       "60    31\n",
       "50    21\n",
       "45    20\n",
       "20    18\n",
       "55     3\n",
       "15     2\n",
       "62     2\n",
       "17     2\n",
       "80     1\n",
       "70     1\n",
       "65     1\n",
       "14     1\n",
       "Name: ejection_fraction, dtype: int64"
      ]
     },
     "execution_count": 9,
     "metadata": {},
     "output_type": "execute_result"
    }
   ],
   "source": [
    "ejec_frac.value_counts()"
   ]
  },
  {
   "cell_type": "code",
   "execution_count": 10,
   "metadata": {},
   "outputs": [
    {
     "data": {
      "text/plain": [
       "0    194\n",
       "1    105\n",
       "Name: high_blood_pressure, dtype: int64"
      ]
     },
     "execution_count": 10,
     "metadata": {},
     "output_type": "execute_result"
    }
   ],
   "source": [
    "hbp.value_counts()"
   ]
  },
  {
   "cell_type": "code",
   "execution_count": 11,
   "metadata": {},
   "outputs": [
    {
     "data": {
      "text/plain": [
       "263358.03    25\n",
       "271000.00     4\n",
       "221000.00     4\n",
       "255000.00     4\n",
       "228000.00     4\n",
       "             ..\n",
       "330000.00     1\n",
       "217000.00     1\n",
       "268000.00     1\n",
       "358000.00     1\n",
       "448000.00     1\n",
       "Name: platelets, Length: 176, dtype: int64"
      ]
     },
     "execution_count": 11,
     "metadata": {},
     "output_type": "execute_result"
    }
   ],
   "source": [
    "platelets.value_counts()"
   ]
  },
  {
   "cell_type": "code",
   "execution_count": 12,
   "metadata": {},
   "outputs": [
    {
     "data": {
      "text/plain": [
       "1.00    50\n",
       "0.90    32\n",
       "1.10    32\n",
       "1.20    24\n",
       "0.80    24\n",
       "1.30    20\n",
       "0.70    19\n",
       "1.18    11\n",
       "1.40     9\n",
       "1.70     9\n",
       "1.83     8\n",
       "1.60     6\n",
       "1.90     5\n",
       "1.50     5\n",
       "2.10     5\n",
       "1.80     4\n",
       "0.60     4\n",
       "2.30     3\n",
       "2.70     3\n",
       "2.50     3\n",
       "3.50     2\n",
       "3.00     2\n",
       "2.40     2\n",
       "0.50     1\n",
       "2.00     1\n",
       "0.75     1\n",
       "9.00     1\n",
       "4.00     1\n",
       "5.00     1\n",
       "3.20     1\n",
       "3.70     1\n",
       "2.90     1\n",
       "9.40     1\n",
       "2.20     1\n",
       "6.10     1\n",
       "3.80     1\n",
       "5.80     1\n",
       "6.80     1\n",
       "4.40     1\n",
       "3.40     1\n",
       "Name: serum_creatinine, dtype: int64"
      ]
     },
     "execution_count": 12,
     "metadata": {},
     "output_type": "execute_result"
    }
   ],
   "source": [
    "ser_crea.value_counts()"
   ]
  },
  {
   "cell_type": "code",
   "execution_count": 13,
   "metadata": {},
   "outputs": [
    {
     "data": {
      "text/plain": [
       "136    40\n",
       "137    38\n",
       "140    35\n",
       "134    32\n",
       "138    23\n",
       "139    22\n",
       "135    16\n",
       "132    14\n",
       "141    12\n",
       "142    11\n",
       "133    10\n",
       "145     9\n",
       "130     9\n",
       "144     5\n",
       "131     5\n",
       "143     3\n",
       "127     3\n",
       "128     2\n",
       "129     2\n",
       "116     1\n",
       "124     1\n",
       "121     1\n",
       "148     1\n",
       "125     1\n",
       "126     1\n",
       "146     1\n",
       "113     1\n",
       "Name: serum_sodium, dtype: int64"
      ]
     },
     "execution_count": 13,
     "metadata": {},
     "output_type": "execute_result"
    }
   ],
   "source": [
    "ser_sodi.value_counts()"
   ]
  },
  {
   "cell_type": "code",
   "execution_count": 14,
   "metadata": {},
   "outputs": [
    {
     "data": {
      "text/plain": [
       "1    194\n",
       "0    105\n",
       "Name: sex, dtype: int64"
      ]
     },
     "execution_count": 14,
     "metadata": {},
     "output_type": "execute_result"
    }
   ],
   "source": [
    "sex.value_counts()"
   ]
  },
  {
   "cell_type": "code",
   "execution_count": 15,
   "metadata": {},
   "outputs": [
    {
     "data": {
      "text/plain": [
       "0    203\n",
       "1     96\n",
       "Name: smoking, dtype: int64"
      ]
     },
     "execution_count": 15,
     "metadata": {},
     "output_type": "execute_result"
    }
   ],
   "source": [
    "smoking.value_counts()"
   ]
  },
  {
   "cell_type": "code",
   "execution_count": 16,
   "metadata": {},
   "outputs": [
    {
     "data": {
      "text/plain": [
       "187    7\n",
       "250    7\n",
       "186    6\n",
       "107    6\n",
       "10     6\n",
       "      ..\n",
       "135    1\n",
       "140    1\n",
       "148    1\n",
       "150    1\n",
       "4      1\n",
       "Name: time, Length: 148, dtype: int64"
      ]
     },
     "execution_count": 16,
     "metadata": {},
     "output_type": "execute_result"
    }
   ],
   "source": [
    "time.value_counts()"
   ]
  },
  {
   "cell_type": "code",
   "execution_count": 17,
   "metadata": {},
   "outputs": [
    {
     "data": {
      "text/plain": [
       "0    203\n",
       "1     96\n",
       "Name: DEATH_EVENT, dtype: int64"
      ]
     },
     "execution_count": 17,
     "metadata": {},
     "output_type": "execute_result"
    }
   ],
   "source": [
    "death_event.value_counts()"
   ]
  },
  {
   "cell_type": "markdown",
   "metadata": {},
   "source": [
    "We are working with non-string values, thus we do not need to check for whitespace errors or capital mismatches.\n",
    "\n",
    "Sanity checks are not needed as the attributes that we can check (without being medically trained) could be age, and the value counts of age show no signs of impossible values.\n",
    "\n",
    "Outliers will be dealt with in the Data Exploration section so we do not need to further process the data.\n",
    "\n",
    "However, there may be missing values in the data that we must at least check for."
   ]
  },
  {
   "cell_type": "code",
   "execution_count": 18,
   "metadata": {
    "scrolled": false
   },
   "outputs": [
    {
     "data": {
      "text/html": [
       "<div>\n",
       "<style scoped>\n",
       "    .dataframe tbody tr th:only-of-type {\n",
       "        vertical-align: middle;\n",
       "    }\n",
       "\n",
       "    .dataframe tbody tr th {\n",
       "        vertical-align: top;\n",
       "    }\n",
       "\n",
       "    .dataframe thead th {\n",
       "        text-align: right;\n",
       "    }\n",
       "</style>\n",
       "<table border=\"1\" class=\"dataframe\">\n",
       "  <thead>\n",
       "    <tr style=\"text-align: right;\">\n",
       "      <th></th>\n",
       "      <th>age</th>\n",
       "      <th>anaemia</th>\n",
       "      <th>creatinine_phosphokinase</th>\n",
       "      <th>diabetes</th>\n",
       "      <th>ejection_fraction</th>\n",
       "      <th>high_blood_pressure</th>\n",
       "      <th>platelets</th>\n",
       "      <th>serum_creatinine</th>\n",
       "      <th>serum_sodium</th>\n",
       "      <th>sex</th>\n",
       "      <th>smoking</th>\n",
       "      <th>time</th>\n",
       "      <th>DEATH_EVENT</th>\n",
       "    </tr>\n",
       "  </thead>\n",
       "  <tbody>\n",
       "    <tr>\n",
       "      <th>0</th>\n",
       "      <td>75.0</td>\n",
       "      <td>0</td>\n",
       "      <td>582</td>\n",
       "      <td>0</td>\n",
       "      <td>20</td>\n",
       "      <td>1</td>\n",
       "      <td>265000.00</td>\n",
       "      <td>1.9</td>\n",
       "      <td>130</td>\n",
       "      <td>1</td>\n",
       "      <td>0</td>\n",
       "      <td>4</td>\n",
       "      <td>1</td>\n",
       "    </tr>\n",
       "    <tr>\n",
       "      <th>1</th>\n",
       "      <td>55.0</td>\n",
       "      <td>0</td>\n",
       "      <td>7861</td>\n",
       "      <td>0</td>\n",
       "      <td>38</td>\n",
       "      <td>0</td>\n",
       "      <td>263358.03</td>\n",
       "      <td>1.1</td>\n",
       "      <td>136</td>\n",
       "      <td>1</td>\n",
       "      <td>0</td>\n",
       "      <td>6</td>\n",
       "      <td>1</td>\n",
       "    </tr>\n",
       "    <tr>\n",
       "      <th>2</th>\n",
       "      <td>65.0</td>\n",
       "      <td>0</td>\n",
       "      <td>146</td>\n",
       "      <td>0</td>\n",
       "      <td>20</td>\n",
       "      <td>0</td>\n",
       "      <td>162000.00</td>\n",
       "      <td>1.3</td>\n",
       "      <td>129</td>\n",
       "      <td>1</td>\n",
       "      <td>1</td>\n",
       "      <td>7</td>\n",
       "      <td>1</td>\n",
       "    </tr>\n",
       "    <tr>\n",
       "      <th>3</th>\n",
       "      <td>50.0</td>\n",
       "      <td>1</td>\n",
       "      <td>111</td>\n",
       "      <td>0</td>\n",
       "      <td>20</td>\n",
       "      <td>0</td>\n",
       "      <td>210000.00</td>\n",
       "      <td>1.9</td>\n",
       "      <td>137</td>\n",
       "      <td>1</td>\n",
       "      <td>0</td>\n",
       "      <td>7</td>\n",
       "      <td>1</td>\n",
       "    </tr>\n",
       "    <tr>\n",
       "      <th>4</th>\n",
       "      <td>65.0</td>\n",
       "      <td>1</td>\n",
       "      <td>160</td>\n",
       "      <td>1</td>\n",
       "      <td>20</td>\n",
       "      <td>0</td>\n",
       "      <td>327000.00</td>\n",
       "      <td>2.7</td>\n",
       "      <td>116</td>\n",
       "      <td>0</td>\n",
       "      <td>0</td>\n",
       "      <td>8</td>\n",
       "      <td>1</td>\n",
       "    </tr>\n",
       "    <tr>\n",
       "      <th>...</th>\n",
       "      <td>...</td>\n",
       "      <td>...</td>\n",
       "      <td>...</td>\n",
       "      <td>...</td>\n",
       "      <td>...</td>\n",
       "      <td>...</td>\n",
       "      <td>...</td>\n",
       "      <td>...</td>\n",
       "      <td>...</td>\n",
       "      <td>...</td>\n",
       "      <td>...</td>\n",
       "      <td>...</td>\n",
       "      <td>...</td>\n",
       "    </tr>\n",
       "    <tr>\n",
       "      <th>294</th>\n",
       "      <td>62.0</td>\n",
       "      <td>0</td>\n",
       "      <td>61</td>\n",
       "      <td>1</td>\n",
       "      <td>38</td>\n",
       "      <td>1</td>\n",
       "      <td>155000.00</td>\n",
       "      <td>1.1</td>\n",
       "      <td>143</td>\n",
       "      <td>1</td>\n",
       "      <td>1</td>\n",
       "      <td>270</td>\n",
       "      <td>0</td>\n",
       "    </tr>\n",
       "    <tr>\n",
       "      <th>295</th>\n",
       "      <td>55.0</td>\n",
       "      <td>0</td>\n",
       "      <td>1820</td>\n",
       "      <td>0</td>\n",
       "      <td>38</td>\n",
       "      <td>0</td>\n",
       "      <td>270000.00</td>\n",
       "      <td>1.2</td>\n",
       "      <td>139</td>\n",
       "      <td>0</td>\n",
       "      <td>0</td>\n",
       "      <td>271</td>\n",
       "      <td>0</td>\n",
       "    </tr>\n",
       "    <tr>\n",
       "      <th>296</th>\n",
       "      <td>45.0</td>\n",
       "      <td>0</td>\n",
       "      <td>2060</td>\n",
       "      <td>1</td>\n",
       "      <td>60</td>\n",
       "      <td>0</td>\n",
       "      <td>742000.00</td>\n",
       "      <td>0.8</td>\n",
       "      <td>138</td>\n",
       "      <td>0</td>\n",
       "      <td>0</td>\n",
       "      <td>278</td>\n",
       "      <td>0</td>\n",
       "    </tr>\n",
       "    <tr>\n",
       "      <th>297</th>\n",
       "      <td>45.0</td>\n",
       "      <td>0</td>\n",
       "      <td>2413</td>\n",
       "      <td>0</td>\n",
       "      <td>38</td>\n",
       "      <td>0</td>\n",
       "      <td>140000.00</td>\n",
       "      <td>1.4</td>\n",
       "      <td>140</td>\n",
       "      <td>1</td>\n",
       "      <td>1</td>\n",
       "      <td>280</td>\n",
       "      <td>0</td>\n",
       "    </tr>\n",
       "    <tr>\n",
       "      <th>298</th>\n",
       "      <td>50.0</td>\n",
       "      <td>0</td>\n",
       "      <td>196</td>\n",
       "      <td>0</td>\n",
       "      <td>45</td>\n",
       "      <td>0</td>\n",
       "      <td>395000.00</td>\n",
       "      <td>1.6</td>\n",
       "      <td>136</td>\n",
       "      <td>1</td>\n",
       "      <td>1</td>\n",
       "      <td>285</td>\n",
       "      <td>0</td>\n",
       "    </tr>\n",
       "  </tbody>\n",
       "</table>\n",
       "<p>299 rows × 13 columns</p>\n",
       "</div>"
      ],
      "text/plain": [
       "      age  anaemia  creatinine_phosphokinase  diabetes  ejection_fraction  \\\n",
       "0    75.0        0                       582         0                 20   \n",
       "1    55.0        0                      7861         0                 38   \n",
       "2    65.0        0                       146         0                 20   \n",
       "3    50.0        1                       111         0                 20   \n",
       "4    65.0        1                       160         1                 20   \n",
       "..    ...      ...                       ...       ...                ...   \n",
       "294  62.0        0                        61         1                 38   \n",
       "295  55.0        0                      1820         0                 38   \n",
       "296  45.0        0                      2060         1                 60   \n",
       "297  45.0        0                      2413         0                 38   \n",
       "298  50.0        0                       196         0                 45   \n",
       "\n",
       "     high_blood_pressure  platelets  serum_creatinine  serum_sodium  sex  \\\n",
       "0                      1  265000.00               1.9           130    1   \n",
       "1                      0  263358.03               1.1           136    1   \n",
       "2                      0  162000.00               1.3           129    1   \n",
       "3                      0  210000.00               1.9           137    1   \n",
       "4                      0  327000.00               2.7           116    0   \n",
       "..                   ...        ...               ...           ...  ...   \n",
       "294                    1  155000.00               1.1           143    1   \n",
       "295                    0  270000.00               1.2           139    0   \n",
       "296                    0  742000.00               0.8           138    0   \n",
       "297                    0  140000.00               1.4           140    1   \n",
       "298                    0  395000.00               1.6           136    1   \n",
       "\n",
       "     smoking  time  DEATH_EVENT  \n",
       "0          0     4            1  \n",
       "1          0     6            1  \n",
       "2          1     7            1  \n",
       "3          0     7            1  \n",
       "4          0     8            1  \n",
       "..       ...   ...          ...  \n",
       "294        1   270            0  \n",
       "295        0   271            0  \n",
       "296        0   278            0  \n",
       "297        1   280            0  \n",
       "298        1   285            0  \n",
       "\n",
       "[299 rows x 13 columns]"
      ]
     },
     "execution_count": 18,
     "metadata": {},
     "output_type": "execute_result"
    }
   ],
   "source": [
    "heart_notnull = pd.notnull(heart)\n",
    "heart[heart_notnull]"
   ]
  },
  {
   "cell_type": "markdown",
   "metadata": {},
   "source": [
    "The above code uses heart_null as a mask to check whether any values in the heart dataframe is NOT null. As shown, there are no null values, so we are safe to proceed with the data. Even though the dataset source implies there are no null values, it is better to be safe and check ourselves.\n",
    "\n",
    "Lastly, as no modifications have been made to the csv file thus far, we are safe to check for any bad lines in the dataset. If any lines have been removed, the shape of the dataset would have changed after re-assigning the heart dataframe."
   ]
  },
  {
   "cell_type": "code",
   "execution_count": 19,
   "metadata": {},
   "outputs": [
    {
     "data": {
      "text/plain": [
       "(299, 13)"
      ]
     },
     "execution_count": 19,
     "metadata": {},
     "output_type": "execute_result"
    }
   ],
   "source": [
    "heart.shape #Before error_bad_lines"
   ]
  },
  {
   "cell_type": "code",
   "execution_count": 20,
   "metadata": {},
   "outputs": [
    {
     "data": {
      "text/plain": [
       "(299, 13)"
      ]
     },
     "execution_count": 20,
     "metadata": {},
     "output_type": "execute_result"
    }
   ],
   "source": [
    "heart = pd.read_csv(heart_filename, sep=',', decimal='.', header=0, error_bad_lines=False)\n",
    "heart.shape #After error_bad_lines"
   ]
  },
  {
   "cell_type": "markdown",
   "metadata": {},
   "source": [
    "## Data Exploration\n",
    "\n",
    "### Exploring the attributes\n",
    "\n",
    "Now that the data is processed and ready for exploration, we begin by visualizing and analyzing the attributes within the dataset. This gives us a general gist and an idea of what to look for. We must first determine what attributes produce relevant data for our original goal in the modelling section later on, and we begin by producing a variety of simple graphs to help us achieve this."
   ]
  },
  {
   "cell_type": "code",
   "execution_count": 21,
   "metadata": {},
   "outputs": [
    {
     "data": {
      "text/plain": [
       "1    194\n",
       "0    105\n",
       "Name: sex, dtype: int64"
      ]
     },
     "execution_count": 21,
     "metadata": {},
     "output_type": "execute_result"
    }
   ],
   "source": [
    "heart['sex'].value_counts()"
   ]
  },
  {
   "cell_type": "code",
   "execution_count": 22,
   "metadata": {
    "scrolled": false
   },
   "outputs": [
    {
     "data": {
      "image/png": "[encoded data removed]",
      "text/plain": [
       "<Figure size 432x288 with 1 Axes>"
      ]
     },
     "metadata": {},
     "output_type": "display_data"
    }
   ],
   "source": [
    "heart['sex'].value_counts().plot(kind='pie',autopct='%.2f')\n",
    "plt.title('Male to Female Distribution')\n",
    "L = plt.legend()\n",
    "L.get_texts()[0].set_text('Male')\n",
    "L.get_texts()[1].set_text('Female')\n",
    "plt.show()"
   ]
  },
  {
   "cell_type": "markdown",
   "metadata": {},
   "source": [
    "Figure 1. Basic pie chart of man (1) to woman (0) distribution."
   ]
  },
  {
   "cell_type": "code",
   "execution_count": 23,
   "metadata": {},
   "outputs": [
    {
     "data": {
      "image/png": "[encoded data removed]",
      "text/plain": [
       "<Figure size 432x288 with 1 Axes>"
      ]
     },
     "metadata": {
      "needs_background": "light"
     },
     "output_type": "display_data"
    }
   ],
   "source": [
    "heart['age'].plot(kind='hist', bins=10)\n",
    "plt.title('Age Range of Patients')\n",
    "plt.xlabel('Age')\n",
    "plt.show()"
   ]
  },
  {
   "cell_type": "markdown",
   "metadata": {},
   "source": [
    "Figure 2. Histogram chart depicting ages of patients within the dataset.\n",
    "\n",
    "It is now time to analyze the more medically related attributes, which will create a clearer depiction on the patients in the dataset."
   ]
  },
  {
   "cell_type": "code",
   "execution_count": 24,
   "metadata": {
    "scrolled": true
   },
   "outputs": [
    {
     "data": {
      "image/png": "[encoded data removed]",
      "text/plain": [
       "<Figure size 432x288 with 1 Axes>"
      ]
     },
     "metadata": {},
     "output_type": "display_data"
    }
   ],
   "source": [
    "heart['smoking'].value_counts().plot(kind='pie',autopct='%.2f')\n",
    "plt.title('Proportion of smokers within patients')\n",
    "L = plt.legend()\n",
    "L.get_texts()[0].set_text('Does not smoke')\n",
    "L.get_texts()[1].set_text('Smokes')"
   ]
  },
  {
   "cell_type": "markdown",
   "metadata": {},
   "source": [
    "Figure 3. Pie chart of patients who did (1) and did not (0) smoke."
   ]
  },
  {
   "cell_type": "code",
   "execution_count": 25,
   "metadata": {},
   "outputs": [
    {
     "data": {
      "image/png": "[encoded data removed]",
      "text/plain": [
       "<Figure size 432x288 with 1 Axes>"
      ]
     },
     "metadata": {},
     "output_type": "display_data"
    }
   ],
   "source": [
    "heart['anaemia'].value_counts().plot(kind='pie',autopct='%.2f')\n",
    "plt.title('Proportion of anaemic patients')\n",
    "L = plt.legend()\n",
    "L.get_texts()[0].set_text('No anaemia')\n",
    "L.get_texts()[1].set_text('Has anaemia')"
   ]
  },
  {
   "cell_type": "markdown",
   "metadata": {},
   "source": [
    "Figure 4. Pie chart of patients who have (1) and don't have (0) anaemia."
   ]
  },
  {
   "cell_type": "code",
   "execution_count": 26,
   "metadata": {
    "scrolled": true
   },
   "outputs": [
    {
     "data": {
      "image/png": "[encoded data removed]",
      "text/plain": [
       "<Figure size 432x288 with 1 Axes>"
      ]
     },
     "metadata": {},
     "output_type": "display_data"
    }
   ],
   "source": [
    "heart['diabetes'].value_counts().plot(kind='pie',autopct='%.2f')\n",
    "plt.title('Proportion of diabetic patients')\n",
    "L = plt.legend()\n",
    "L.get_texts()[0].set_text('No diabetes')\n",
    "L.get_texts()[1].set_text('Has diabetes')"
   ]
  },
  {
   "cell_type": "markdown",
   "metadata": {},
   "source": [
    "Figure 5. Pie chart of patients who do (1) and don't have (0) diabetes."
   ]
  },
  {
   "cell_type": "code",
   "execution_count": 27,
   "metadata": {
    "scrolled": true
   },
   "outputs": [
    {
     "data": {
      "text/plain": [
       "<AxesSubplot:title={'center':'Number of Patients with High Blood Pressure'}>"
      ]
     },
     "execution_count": 27,
     "metadata": {},
     "output_type": "execute_result"
    },
    {
     "data": {
      "image/png": "[encoded data removed]",
      "text/plain": [
       "<Figure size 432x288 with 1 Axes>"
      ]
     },
     "metadata": {
      "needs_background": "light"
     },
     "output_type": "display_data"
    }
   ],
   "source": [
    "heart['high_blood_pressure'].value_counts().plot(kind='bar', title='Number of Patients with High Blood Pressure')"
   ]
  },
  {
   "cell_type": "markdown",
   "metadata": {},
   "source": [
    "Figure 6. Number of Patients that either have (1) or don't have (0) High Blood Pressure."
   ]
  },
  {
   "cell_type": "code",
   "execution_count": 28,
   "metadata": {
    "scrolled": false
   },
   "outputs": [
    {
     "data": {
      "text/plain": [
       "<AxesSubplot:title={'center':'Death Events after Heart Failure'}>"
      ]
     },
     "execution_count": 28,
     "metadata": {},
     "output_type": "execute_result"
    },
    {
     "data": {
      "image/png": "[encoded data removed]",
      "text/plain": [
       "<Figure size 432x288 with 1 Axes>"
      ]
     },
     "metadata": {
      "needs_background": "light"
     },
     "output_type": "display_data"
    }
   ],
   "source": [
    "heart['DEATH_EVENT'].value_counts().plot(kind='bar', title='Death Events after Heart Failure')"
   ]
  },
  {
   "cell_type": "markdown",
   "metadata": {},
   "source": [
    "Figure 7. The number of survivors (0) or deaths (1) after Heart Failure in the dataset"
   ]
  },
  {
   "cell_type": "code",
   "execution_count": 29,
   "metadata": {
    "scrolled": false
   },
   "outputs": [
    {
     "data": {
      "text/plain": [
       "Text(0.5, 1.0, 'Levels of Serum Creatinine in patients')"
      ]
     },
     "execution_count": 29,
     "metadata": {},
     "output_type": "execute_result"
    },
    {
     "data": {
      "image/png": "[encoded data removed]",
      "text/plain": [
       "<Figure size 432x288 with 1 Axes>"
      ]
     },
     "metadata": {
      "needs_background": "light"
     },
     "output_type": "display_data"
    }
   ],
   "source": [
    "heart['serum_creatinine'].plot(kind='hist')\n",
    "plt.xlabel('Serum Creatinine (mg/dL)')\n",
    "plt.title('Levels of Serum Creatinine in patients')"
   ]
  },
  {
   "cell_type": "markdown",
   "metadata": {},
   "source": [
    "Figure 8. Level of serum creatinine in patients (mg/dL)"
   ]
  },
  {
   "cell_type": "code",
   "execution_count": 30,
   "metadata": {
    "scrolled": true
   },
   "outputs": [
    {
     "data": {
      "text/plain": [
       "Text(0.5, 1.0, 'Density of Ejection Fraction by Percentage')"
      ]
     },
     "execution_count": 30,
     "metadata": {},
     "output_type": "execute_result"
    },
    {
     "data": {
      "image/png": "[encoded data removed]",
      "text/plain": [
       "<Figure size 432x288 with 1 Axes>"
      ]
     },
     "metadata": {
      "needs_background": "light"
     },
     "output_type": "display_data"
    }
   ],
   "source": [
    "heart['ejection_fraction'].plot(kind='density')\n",
    "plt.xlabel('Ejection Fraction in %')\n",
    "plt.title('Density of Ejection Fraction by Percentage')"
   ]
  },
  {
   "cell_type": "markdown",
   "metadata": {},
   "source": [
    "Figure 9. Density plot of Ejection Fraction in %."
   ]
  },
  {
   "cell_type": "code",
   "execution_count": 31,
   "metadata": {},
   "outputs": [
    {
     "data": {
      "text/plain": [
       "Text(0, 0.5, 'kiloplatelets/mL')"
      ]
     },
     "execution_count": 31,
     "metadata": {},
     "output_type": "execute_result"
    },
    {
     "data": {
      "image/png": "[encoded data removed]",
      "text/plain": [
       "<Figure size 432x288 with 1 Axes>"
      ]
     },
     "metadata": {
      "needs_background": "light"
     },
     "output_type": "display_data"
    }
   ],
   "source": [
    "heart['platelets'].dropna().plot(kind='box', title= 'Number of Platelets per Patient')\n",
    "plt.ylabel('kiloplatelets/mL')"
   ]
  },
  {
   "cell_type": "markdown",
   "metadata": {},
   "source": [
    "Figure 10. Number of Platelets per Patient."
   ]
  },
  {
   "cell_type": "code",
   "execution_count": 32,
   "metadata": {},
   "outputs": [
    {
     "data": {
      "text/plain": [
       "False    203\n",
       "True      96\n",
       "Name: DEATH_EVENT, dtype: int64"
      ]
     },
     "execution_count": 32,
     "metadata": {},
     "output_type": "execute_result"
    }
   ],
   "source": [
    "mask_deceased = heart['DEATH_EVENT'] == 1 #Selects the data only from patients with death event equal to 1\n",
    "mask_survived = heart['DEATH_EVENT'] == 0\n",
    "mask_deceased.value_counts()"
   ]
  },
  {
   "cell_type": "markdown",
   "metadata": {},
   "source": [
    "We can now explore how different attributes affect the number of survived patients."
   ]
  },
  {
   "cell_type": "code",
   "execution_count": 33,
   "metadata": {},
   "outputs": [],
   "source": [
    "deceased_vs_age = heart.loc[mask_deceased, 'age']\n",
    "survived_vs_age = heart.loc[mask_survived, 'age']"
   ]
  },
  {
   "cell_type": "code",
   "execution_count": 34,
   "metadata": {},
   "outputs": [
    {
     "data": {
      "text/plain": [
       "<matplotlib.legend.Legend at 0x1b85cbcb070>"
      ]
     },
     "execution_count": 34,
     "metadata": {},
     "output_type": "execute_result"
    },
    {
     "data": {
      "image/png": "[encoded data removed]",
      "text/plain": [
       "<Figure size 432x288 with 1 Axes>"
      ]
     },
     "metadata": {
      "needs_background": "light"
     },
     "output_type": "display_data"
    }
   ],
   "source": [
    "survived_vs_age.plot(kind='density')\n",
    "plt.title('Age Range of Survived Patients')\n",
    "plt.xlabel('Age')\n",
    "plt.legend()"
   ]
  },
  {
   "cell_type": "markdown",
   "metadata": {},
   "source": [
    "Figure 11. Density Plot of Survived Patients."
   ]
  },
  {
   "cell_type": "code",
   "execution_count": 35,
   "metadata": {
    "scrolled": true
   },
   "outputs": [
    {
     "data": {
      "text/plain": [
       "Text(0.5, 0, 'Age')"
      ]
     },
     "execution_count": 35,
     "metadata": {},
     "output_type": "execute_result"
    },
    {
     "data": {
      "image/png": "[encoded data removed]",
      "text/plain": [
       "<Figure size 432x288 with 1 Axes>"
      ]
     },
     "metadata": {
      "needs_background": "light"
     },
     "output_type": "display_data"
    }
   ],
   "source": [
    "deceased_vs_age.plot(kind='density')\n",
    "plt.title('Age Range of Deceased Patients')\n",
    "plt.xlabel('Age')"
   ]
  },
  {
   "cell_type": "markdown",
   "metadata": {},
   "source": [
    "Figure 12. Density Plot of Ages of Deceased Patients.\n",
    "\n",
    "Figure 12 visualizes the frequencies of the Ages of Deceased Patients. It helps us depict how there are more frequent Heart Failures within the 60-70 bins, however this may be due to simply a higher number of Patients within these Ages.\n",
    "\n",
    "These two figures show us that there is not much difference in the ages between the survived and deceased patients. However, patients around the ages of 80 decease more often after Heart Failure (0.015) compared to the density measurements of survival (0.005).\n",
    "\n",
    "We can explore other attributes comparing the data of survived and deceased patients through boxplots."
   ]
  },
  {
   "cell_type": "code",
   "execution_count": 36,
   "metadata": {
    "scrolled": true
   },
   "outputs": [
    {
     "data": {
      "image/png": "[encoded data removed]",
      "text/plain": [
       "<Figure size 432x288 with 1 Axes>"
      ]
     },
     "metadata": {
      "needs_background": "light"
     },
     "output_type": "display_data"
    }
   ],
   "source": [
    "heart.dropna().boxplot(column='age', by = 'DEATH_EVENT')\n",
    "plt.tight_layout()\n",
    "plt.show()"
   ]
  },
  {
   "cell_type": "markdown",
   "metadata": {},
   "source": [
    "Figure 13. Boxplot of Ages grouped by Death Events."
   ]
  },
  {
   "cell_type": "code",
   "execution_count": 37,
   "metadata": {
    "scrolled": true
   },
   "outputs": [
    {
     "data": {
      "image/png": "[encoded data removed]",
      "text/plain": [
       "<Figure size 432x288 with 1 Axes>"
      ]
     },
     "metadata": {
      "needs_background": "light"
     },
     "output_type": "display_data"
    }
   ],
   "source": [
    "heart.dropna().boxplot(column='serum_creatinine', by = 'DEATH_EVENT')\n",
    "plt.ylabel('Serum Creatinine (mg/dL)')\n",
    "plt.tight_layout()\n",
    "plt.show()"
   ]
  },
  {
   "cell_type": "markdown",
   "metadata": {},
   "source": [
    "Figure 14. Boxplot of Serum Creatinine (mg/dL) grouped by Death Events."
   ]
  },
  {
   "cell_type": "code",
   "execution_count": 38,
   "metadata": {
    "scrolled": false
   },
   "outputs": [
    {
     "data": {
      "image/png": "[encoded data removed]",
      "text/plain": [
       "<Figure size 432x288 with 1 Axes>"
      ]
     },
     "metadata": {
      "needs_background": "light"
     },
     "output_type": "display_data"
    }
   ],
   "source": [
    "heart.dropna().boxplot(column='ejection_fraction', by = 'DEATH_EVENT')\n",
    "plt.tight_layout()\n",
    "plt.ylabel('Ejection fraction (%)')\n",
    "plt.show()"
   ]
  },
  {
   "cell_type": "markdown",
   "metadata": {},
   "source": [
    "Figure 15. Boxplot of Ejection Fraction (%) grouped by Death Events."
   ]
  },
  {
   "cell_type": "code",
   "execution_count": 39,
   "metadata": {
    "scrolled": true
   },
   "outputs": [
    {
     "data": {
      "image/png": "[encoded data removed]",
      "text/plain": [
       "<Figure size 432x288 with 2 Axes>"
      ]
     },
     "metadata": {
      "needs_background": "light"
     },
     "output_type": "display_data"
    }
   ],
   "source": [
    "deceased_vs_cpk = heart.loc[mask_deceased, 'creatinine_phosphokinase']\n",
    "survived_vs_cpk = heart.loc[mask_survived, 'creatinine_phosphokinase']\n",
    "\n",
    "plt.subplot(2,1,1)\n",
    "survived_vs_cpk.plot(kind='hist')\n",
    "plt.xlabel('Creatinine Phosphokinase (mcg/L)')\n",
    "plt.title('CPK by Survived Patients')\n",
    "\n",
    "plt.subplot(2,1,2)\n",
    "deceased_vs_cpk.plot(kind='hist')\n",
    "plt.xlabel('Creatinine Phosphokinase (mcg/L)')\n",
    "plt.title('CPK by Deceased Patients')\n",
    "\n",
    "plt.tight_layout()\n",
    "plt.show()"
   ]
  },
  {
   "cell_type": "markdown",
   "metadata": {},
   "source": [
    "Figure 16. Histograms of 'CPK' Creatinine Phosphokinase (mcg/L) by Death Events."
   ]
  },
  {
   "cell_type": "code",
   "execution_count": 40,
   "metadata": {},
   "outputs": [
    {
     "data": {
      "image/png": "[encoded data removed]",
      "text/plain": [
       "<Figure size 432x288 with 1 Axes>"
      ]
     },
     "metadata": {
      "needs_background": "light"
     },
     "output_type": "display_data"
    }
   ],
   "source": [
    "heart.dropna().boxplot(column='serum_sodium', by = 'DEATH_EVENT')\n",
    "plt.ylabel('Serum sodium (mEq/L)')\n",
    "plt.title('Level of serum sodium by Death Events')\n",
    "plt.tight_layout()\n",
    "plt.show()"
   ]
  },
  {
   "cell_type": "markdown",
   "metadata": {},
   "source": [
    "Figure 17. Boxplot of Serium Sodium levels (mEq/L) by Death Events."
   ]
  },
  {
   "cell_type": "code",
   "execution_count": 41,
   "metadata": {},
   "outputs": [
    {
     "data": {
      "image/png": "[encoded data removed]",
      "text/plain": [
       "<Figure size 432x288 with 2 Axes>"
      ]
     },
     "metadata": {
      "needs_background": "light"
     },
     "output_type": "display_data"
    }
   ],
   "source": [
    "survived_vs_platelets = heart.loc[mask_survived, 'platelets']\n",
    "deceased_vs_platelets = heart.loc[mask_deceased, 'platelets']\n",
    "\n",
    "\n",
    "plt.subplot(2,1,1)\n",
    "survived_vs_platelets.plot(kind='hist')\n",
    "plt.xlabel('Platelets (kiloplatelets/mL)')\n",
    "plt.title('Platelet Levels by Survived Patients')\n",
    "\n",
    "plt.subplot(2,1,2)\n",
    "deceased_vs_platelets.plot(kind='hist')\n",
    "plt.xlabel('Platelets (kiloplatelets/mL)')\n",
    "plt.title('Platelet Levels by Deceased Patients')\n",
    "\n",
    "plt.tight_layout()\n",
    "plt.show()"
   ]
  },
  {
   "cell_type": "markdown",
   "metadata": {},
   "source": [
    "Figure 18. Histograms of Platelet Levels (kiloplatelets/mL) by Death Events."
   ]
  },
  {
   "cell_type": "code",
   "execution_count": 42,
   "metadata": {},
   "outputs": [
    {
     "data": {
      "image/png": "[encoded data removed]",
      "text/plain": [
       "<Figure size 432x288 with 2 Axes>"
      ]
     },
     "metadata": {},
     "output_type": "display_data"
    }
   ],
   "source": [
    "deceased_vs_hbp = heart.loc[mask_deceased, 'high_blood_pressure']\n",
    "survived_vs_hbp = heart.loc[mask_survived, 'high_blood_pressure']\n",
    "\n",
    "plt.subplot(1,2,1)\n",
    "survived_vs_hbp.value_counts().plot(kind='pie', autopct='%.2f')\n",
    "plt.title('HBP by Survived Patients')\n",
    "L = plt.legend()\n",
    "L.get_texts()[0].set_text('Survived')\n",
    "L.get_texts()[1].set_text('Died')\n",
    "\n",
    "plt.subplot(1,2,2)\n",
    "deceased_vs_hbp.value_counts().plot(kind='pie', autopct='%.2f')\n",
    "plt.title('HBP by Deceased Patients')\n",
    "L = plt.legend()\n",
    "L.get_texts()[0].set_text('Survived')\n",
    "L.get_texts()[1].set_text('Died')\n",
    "\n",
    "plt.tight_layout()\n",
    "plt.show()"
   ]
  },
  {
   "cell_type": "markdown",
   "metadata": {},
   "source": [
    "Figure 19. Pie charts of Percentage of Patients with (1) or without (0) High Blood Pressure"
   ]
  },
  {
   "cell_type": "code",
   "execution_count": 43,
   "metadata": {},
   "outputs": [
    {
     "data": {
      "image/png": "[encoded data removed]",
      "text/plain": [
       "<Figure size 432x288 with 2 Axes>"
      ]
     },
     "metadata": {},
     "output_type": "display_data"
    }
   ],
   "source": [
    "deceased_vs_smoking = heart.loc[mask_deceased, 'smoking']\n",
    "survived_vs_smoking = heart.loc[mask_survived, 'smoking']\n",
    "\n",
    "plt.subplot(1,2,1)\n",
    "survived_vs_smoking.value_counts().plot(kind='pie', autopct='%.2f')\n",
    "plt.title('Smoking by Survived Patients')\n",
    "L = plt.legend()\n",
    "L.get_texts()[0].set_text('Survived')\n",
    "L.get_texts()[1].set_text('Died')\n",
    "\n",
    "plt.subplot(1,2,2)\n",
    "deceased_vs_smoking.value_counts().plot(kind='pie', autopct='%.2f')\n",
    "plt.title('Smoking by Deceased Patients')\n",
    "L = plt.legend()\n",
    "L.get_texts()[0].set_text('Survived')\n",
    "L.get_texts()[1].set_text('Died')\n",
    "\n",
    "plt.tight_layout()\n",
    "plt.show()"
   ]
  },
  {
   "cell_type": "markdown",
   "metadata": {},
   "source": [
    "Figure 20. Number of Patients who did (1) or did not (0) smoke"
   ]
  },
  {
   "cell_type": "code",
   "execution_count": 44,
   "metadata": {},
   "outputs": [
    {
     "data": {
      "image/png": "[encoded data removed]",
      "text/plain": [
       "<Figure size 432x288 with 2 Axes>"
      ]
     },
     "metadata": {},
     "output_type": "display_data"
    }
   ],
   "source": [
    "deceased_vs_sex = heart.loc[mask_deceased, 'sex']\n",
    "survived_vs_sex = heart.loc[mask_survived, 'sex']\n",
    "\n",
    "plt.subplot(1,2,1)\n",
    "survived_vs_sex.value_counts().plot(kind='pie', autopct='%.2f')\n",
    "plt.title('Sex by Survived Patients')\n",
    "L = plt.legend()\n",
    "L.get_texts()[0].set_text('Male')\n",
    "L.get_texts()[1].set_text('Female')\n",
    "\n",
    "plt.subplot(1,2,2)\n",
    "deceased_vs_sex.value_counts().plot(kind='pie', autopct='%.2f')\n",
    "plt.title('Sex by Deceased Patients')\n",
    "L = plt.legend()\n",
    "L.get_texts()[0].set_text('Male')\n",
    "L.get_texts()[1].set_text('Female')\n",
    "\n",
    "plt.tight_layout()\n",
    "plt.show()"
   ]
  },
  {
   "cell_type": "markdown",
   "metadata": {},
   "source": [
    "Figure 21. Sex of patients where Male (1) and Female (0)"
   ]
  },
  {
   "cell_type": "code",
   "execution_count": 45,
   "metadata": {},
   "outputs": [
    {
     "data": {
      "image/png": "[encoded data removed]",
      "text/plain": [
       "<Figure size 432x288 with 2 Axes>"
      ]
     },
     "metadata": {},
     "output_type": "display_data"
    }
   ],
   "source": [
    "deceased_vs_anaemia = heart.loc[mask_deceased, 'anaemia']\n",
    "survived_vs_anaemia = heart.loc[mask_survived, 'anaemia']\n",
    "\n",
    "plt.subplot(1,2,1)\n",
    "survived_vs_anaemia.value_counts().plot(kind='pie', autopct='%.2f')\n",
    "plt.title('Anaemics by Survived Patients')\n",
    "L = plt.legend()\n",
    "L.get_texts()[1].set_text('Anaemic')\n",
    "L.get_texts()[0].set_text('Non-anaemic')\n",
    "\n",
    "plt.subplot(1,2,2)\n",
    "deceased_vs_anaemia.value_counts().plot(kind='pie', autopct='%.2f')\n",
    "plt.title('Anaemics by Deceased Patients')\n",
    "L = plt.legend()\n",
    "L.get_texts()[1].set_text('Anaemic')\n",
    "L.get_texts()[0].set_text('Non-anaemic')\n",
    "\n",
    "plt.tight_layout()\n",
    "plt.show()"
   ]
  },
  {
   "cell_type": "markdown",
   "metadata": {},
   "source": [
    "Figure 22. Survived and Deceased Patients by Anaemic (1) or Non-Anaemic (0)"
   ]
  },
  {
   "cell_type": "markdown",
   "metadata": {},
   "source": [
    "## Data Modelling\n",
    "\n",
    "### Decision Tree Classification"
   ]
  },
  {
   "cell_type": "code",
   "execution_count": 46,
   "metadata": {},
   "outputs": [],
   "source": [
    "from sklearn.model_selection import train_test_split\n",
    "from sklearn.tree import DecisionTreeClassifier\n",
    "from sklearn import tree\n",
    "from sklearn.metrics import accuracy_score"
   ]
  },
  {
   "cell_type": "code",
   "execution_count": 47,
   "metadata": {},
   "outputs": [],
   "source": [
    "X = heart.values[:, 0:12]\n",
    "Y = heart.values[:, 12]"
   ]
  },
  {
   "cell_type": "code",
   "execution_count": 48,
   "metadata": {},
   "outputs": [
    {
     "name": "stdout",
     "output_type": "stream",
     "text": [
      "Score with 1 selected features: 0.6666666666666666\n",
      "Score with 2 selected features: 0.6933333333333334\n",
      "Score with 3 selected features: 0.7333333333333333\n",
      "Score with 4 selected features: 0.7333333333333333\n",
      "Score with 5 selected features: 0.7733333333333333\n",
      "Score with 6 selected features: 0.8133333333333334\n",
      "Score with 7 selected features: 0.8133333333333334\n",
      "Score with 8 selected features: 0.8133333333333334\n"
     ]
    }
   ],
   "source": [
    "from sklearn.utils import shuffle\n",
    "col_num=X.shape[1]\n",
    "new_Ind=[]\n",
    "cur_MaxScore=0.0\n",
    "col_Ind_Random=shuffle(range(0, col_num), random_state=1)\n",
    "for cur_f in range(0, col_num):\n",
    "    new_Ind.append(col_Ind_Random[cur_f])\n",
    "    newData = X[:, new_Ind].copy()\n",
    "    X_train, X_test, y_train, y_test = train_test_split(newData, Y, test_size=0.25, random_state=100)\n",
    "    clf = DecisionTreeClassifier(criterion = \"entropy\", \n",
    "                                    max_depth=5,\n",
    "                                    random_state = 101,\n",
    "                                    min_samples_split=12,\n",
    "                                    min_samples_leaf=8,\n",
    "                                    max_features= \"auto\",\n",
    "                                    max_leaf_nodes=None)\n",
    "    fit=clf.fit(X_train, y_train)\n",
    "    cur_Score=clf.score(X_test, y_test)\n",
    "    if cur_Score < cur_MaxScore:\n",
    "        new_Ind.remove(col_Ind_Random[cur_f])\n",
    "    else:\n",
    "        cur_MaxScore=cur_Score\n",
    "        print(\"Score with \" + str(len(new_Ind)) + \" selected features: \" + str(cur_Score))"
   ]
  },
  {
   "cell_type": "code",
   "execution_count": 49,
   "metadata": {},
   "outputs": [],
   "source": [
    "X = heart[['age', 'creatinine_phosphokinase', 'ejection_fraction', 'high_blood_pressure', 'platelets', 'serum_creatinine', \n",
    "           'serum_sodium', 'sex']]\n",
    "Y = heart['DEATH_EVENT']"
   ]
  },
  {
   "cell_type": "code",
   "execution_count": 50,
   "metadata": {},
   "outputs": [],
   "source": [
    "X_train, X_test, y_train, y_test=train_test_split(X, Y, test_size=\n",
    "                                                   0.25, random_state=100)"
   ]
  },
  {
   "cell_type": "code",
   "execution_count": 51,
   "metadata": {},
   "outputs": [
    {
     "data": {
      "text/plain": [
       "0.72"
      ]
     },
     "execution_count": 51,
     "metadata": {},
     "output_type": "execute_result"
    }
   ],
   "source": [
    "clf = DecisionTreeClassifier(criterion = \"entropy\", \n",
    "                                    max_depth=5,\n",
    "                                    random_state = 100,\n",
    "                                    min_samples_split=12,\n",
    "                                    min_samples_leaf=8,\n",
    "                                    max_features= \"auto\",\n",
    "                                    max_leaf_nodes=None)\n",
    "clf.fit(X_train, y_train)\n",
    "y_pred = clf.predict(X_test)\n",
    "accuracy_score(y_test, y_pred)"
   ]
  },
  {
   "cell_type": "code",
   "execution_count": 52,
   "metadata": {},
   "outputs": [],
   "source": [
    "from sklearn.metrics import classification_report"
   ]
  },
  {
   "cell_type": "code",
   "execution_count": 53,
   "metadata": {},
   "outputs": [
    {
     "name": "stdout",
     "output_type": "stream",
     "text": [
      "              precision    recall  f1-score   support\n",
      "\n",
      "           0       0.74      0.90      0.81        50\n",
      "           1       0.64      0.36      0.46        25\n",
      "\n",
      "    accuracy                           0.72        75\n",
      "   macro avg       0.69      0.63      0.64        75\n",
      "weighted avg       0.71      0.72      0.69        75\n",
      "\n"
     ]
    }
   ],
   "source": [
    "print(classification_report(y_test, y_pred))"
   ]
  },
  {
   "cell_type": "markdown",
   "metadata": {},
   "source": [
    "## KNeighbours Classification"
   ]
  },
  {
   "cell_type": "code",
   "execution_count": 54,
   "metadata": {},
   "outputs": [],
   "source": [
    "from sklearn.neighbors import KNeighborsClassifier"
   ]
  },
  {
   "cell_type": "code",
   "execution_count": 55,
   "metadata": {},
   "outputs": [],
   "source": [
    "X = heart.values[:, 0:12]\n",
    "Y = heart.values[:, 12]"
   ]
  },
  {
   "cell_type": "code",
   "execution_count": 56,
   "metadata": {},
   "outputs": [
    {
     "name": "stdout",
     "output_type": "stream",
     "text": [
      "Score with 1 selected features: 0.6\n",
      "Score with 2 selected features: 0.64\n",
      "Score with 3 selected features: 0.64\n",
      "Score with 4 selected features: 0.64\n",
      "Score with 5 selected features: 0.6666666666666666\n",
      "Score with 6 selected features: 0.6666666666666666\n",
      "Score with 7 selected features: 0.7333333333333333\n",
      "Score with 8 selected features: 0.7333333333333333\n",
      "Score with 9 selected features: 0.7333333333333333\n",
      "Score with 10 selected features: 0.7333333333333333\n"
     ]
    }
   ],
   "source": [
    "from sklearn.utils import shuffle\n",
    "col_num=X.shape[1]\n",
    "new_Ind=[]\n",
    "cur_MaxScore=0.0\n",
    "col_Ind_Random=shuffle(range(0, col_num), random_state=1)\n",
    "for cur_f in range(0, col_num):\n",
    "    new_Ind.append(col_Ind_Random[cur_f])\n",
    "    newData = X[:, new_Ind].copy()\n",
    "    X_train, X_test, y_train, y_test = train_test_split(newData, Y, test_size=0.25, random_state=100)\n",
    "    clf=KNeighborsClassifier(n_neighbors=15, \n",
    "                          weights='distance', \n",
    "                          p=2, \n",
    "                          metric='minkowski')\n",
    "    fit=clf.fit(X_train, y_train)\n",
    "    cur_Score=clf.score(X_test, y_test)\n",
    "    if cur_Score < cur_MaxScore:\n",
    "        new_Ind.remove(col_Ind_Random[cur_f])\n",
    "    else:\n",
    "        cur_MaxScore=cur_Score\n",
    "        print(\"Score with \" + str(len(new_Ind)) + \" selected features: \" + str(cur_Score))\n",
    "        "
   ]
  },
  {
   "cell_type": "code",
   "execution_count": 57,
   "metadata": {},
   "outputs": [],
   "source": [
    "X = heart[['age', 'creatinine_phosphokinase', 'ejection_fraction', 'high_blood_pressure', 'platelets', 'serum_creatinine', \n",
    "           'serum_sodium', 'sex', 'smoking', 'anaemia']]\n",
    "Y = heart['DEATH_EVENT']"
   ]
  },
  {
   "cell_type": "code",
   "execution_count": 58,
   "metadata": {},
   "outputs": [],
   "source": [
    "X_train, X_test, y_train, y_test=train_test_split(X, Y, test_size=\n",
    "                                                   0.25, random_state=100)"
   ]
  },
  {
   "cell_type": "code",
   "execution_count": 59,
   "metadata": {},
   "outputs": [
    {
     "data": {
      "text/plain": [
       "0.6266666666666667"
      ]
     },
     "execution_count": 59,
     "metadata": {},
     "output_type": "execute_result"
    }
   ],
   "source": [
    "clf = KNeighborsClassifier(n_neighbors=15, \n",
    "                          weights='distance', \n",
    "                          p=2, \n",
    "                          metric='minkowski')\n",
    "clf.fit(X_train, y_train)\n",
    "y_pred = clf.predict(X_test)\n",
    "accuracy_score(y_test, y_pred)"
   ]
  },
  {
   "cell_type": "code",
   "execution_count": 60,
   "metadata": {},
   "outputs": [],
   "source": [
    "from sklearn.metrics import classification_report"
   ]
  },
  {
   "cell_type": "code",
   "execution_count": 61,
   "metadata": {},
   "outputs": [
    {
     "name": "stdout",
     "output_type": "stream",
     "text": [
      "              precision    recall  f1-score   support\n",
      "\n",
      "           0       0.69      0.80      0.74        50\n",
      "           1       0.41      0.28      0.33        25\n",
      "\n",
      "    accuracy                           0.63        75\n",
      "   macro avg       0.55      0.54      0.54        75\n",
      "weighted avg       0.60      0.63      0.60        75\n",
      "\n"
     ]
    }
   ],
   "source": [
    "print(classification_report(y_test, y_pred))"
   ]
  }
 ],
 "metadata": {
  "kernelspec": {
   "display_name": "Python 3",
   "language": "python",
   "name": "python3"
  },
  "language_info": {
   "codemirror_mode": {
    "name": "ipython",
    "version": 3
   },
   "file_extension": ".py",
   "mimetype": "text/x-python",
   "name": "python",
   "nbconvert_exporter": "python",
   "pygments_lexer": "ipython3",
   "version": "3.8.5"
  }
 },
 "nbformat": 4,
 "nbformat_minor": 5
}
